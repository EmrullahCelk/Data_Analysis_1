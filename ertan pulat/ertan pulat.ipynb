{
 "cells": [
  {
   "cell_type": "markdown",
   "metadata": {},
   "source": [
    "HOMEWORK\n",
    "Data_Analysis_1\n",
    "Numpy & Pandas\n",
    "ERTAN PULAT"
   ]
  },
  {
   "cell_type": "code",
   "execution_count": 1,
   "metadata": {},
   "outputs": [],
   "source": [
    "import numpy as np"
   ]
  },
  {
   "cell_type": "markdown",
   "metadata": {},
   "source": [
    "1.Numpy’da Vektor ve Matrisin farkini tek cumle ile ifade ediniz.\n",
    "Tek boyutlu dizilere Vektör\n",
    "Çok boyutlu dizilere Matris denir."
   ]
  },
  {
   "cell_type": "code",
   "execution_count": 3,
   "metadata": {},
   "outputs": [],
   "source": [
    "#2.10 elemanli bir listeden NumPy Array’i olusturunuz.\n",
    "numpy_array = np.array([0,1,2,3,4,5,6,7,8,9])"
   ]
  },
  {
   "cell_type": "code",
   "execution_count": 4,
   "metadata": {},
   "outputs": [
    {
     "data": {
      "text/plain": [
       "array([[0, 0, 0, 0, 0, 0, 0, 0, 0, 0],\n",
       "       [0, 0, 0, 0, 0, 0, 0, 0, 0, 0],\n",
       "       [0, 0, 0, 0, 0, 0, 0, 0, 0, 0],\n",
       "       [0, 0, 0, 0, 0, 0, 0, 0, 0, 0],\n",
       "       [0, 0, 0, 0, 0, 0, 0, 0, 0, 0],\n",
       "       [0, 0, 0, 0, 0, 0, 0, 0, 0, 0],\n",
       "       [0, 0, 0, 0, 0, 0, 0, 0, 0, 0],\n",
       "       [0, 0, 0, 0, 0, 0, 0, 0, 0, 0],\n",
       "       [0, 0, 0, 0, 0, 0, 0, 0, 0, 0],\n",
       "       [0, 0, 0, 0, 0, 0, 0, 0, 0, 0]])"
      ]
     },
     "execution_count": 4,
     "metadata": {},
     "output_type": "execute_result"
    }
   ],
   "source": [
    "#3.Icerisinde ‘0’ lar olan, ve veri tipi integer olan 10X10’luk bir matris olusturunuz.\n",
    "np.zeros((10,10),dtype=int)"
   ]
  },
  {
   "cell_type": "code",
   "execution_count": 5,
   "metadata": {},
   "outputs": [
    {
     "data": {
      "text/plain": [
       "array([[1., 1., 1., 1., 1., 1., 1., 1., 1., 1.],\n",
       "       [1., 1., 1., 1., 1., 1., 1., 1., 1., 1.],\n",
       "       [1., 1., 1., 1., 1., 1., 1., 1., 1., 1.],\n",
       "       [1., 1., 1., 1., 1., 1., 1., 1., 1., 1.],\n",
       "       [1., 1., 1., 1., 1., 1., 1., 1., 1., 1.],\n",
       "       [1., 1., 1., 1., 1., 1., 1., 1., 1., 1.],\n",
       "       [1., 1., 1., 1., 1., 1., 1., 1., 1., 1.],\n",
       "       [1., 1., 1., 1., 1., 1., 1., 1., 1., 1.],\n",
       "       [1., 1., 1., 1., 1., 1., 1., 1., 1., 1.],\n",
       "       [1., 1., 1., 1., 1., 1., 1., 1., 1., 1.]])"
      ]
     },
     "execution_count": 5,
     "metadata": {},
     "output_type": "execute_result"
    }
   ],
   "source": [
    "#4.Icerisinde ‘1’ ler olan, veri tipi float olan 10X10’luk bir matris olusturunuz.\n",
    "np.ones((10,10),dtype=float)"
   ]
  },
  {
   "cell_type": "code",
   "execution_count": 11,
   "metadata": {},
   "outputs": [
    {
     "data": {
      "text/plain": [
       "array([[9, 9, 9, 9, 9, 9, 9, 9, 9, 9],\n",
       "       [9, 9, 9, 9, 9, 9, 9, 9, 9, 9],\n",
       "       [9, 9, 9, 9, 9, 9, 9, 9, 9, 9],\n",
       "       [9, 9, 9, 9, 9, 9, 9, 9, 9, 9],\n",
       "       [9, 9, 9, 9, 9, 9, 9, 9, 9, 9],\n",
       "       [9, 9, 9, 9, 9, 9, 9, 9, 9, 9],\n",
       "       [9, 9, 9, 9, 9, 9, 9, 9, 9, 9],\n",
       "       [9, 9, 9, 9, 9, 9, 9, 9, 9, 9],\n",
       "       [9, 9, 9, 9, 9, 9, 9, 9, 9, 9],\n",
       "       [9, 9, 9, 9, 9, 9, 9, 9, 9, 9]])"
      ]
     },
     "execution_count": 11,
     "metadata": {},
     "output_type": "execute_result"
    }
   ],
   "source": [
    "#5.Icerisinde ‘9’ lar olan, veri tipi integer olan 10X10’luk bir matris olusturunuz.\n",
    "np.full((10,10),9,dtype=int)"
   ]
  },
  {
   "cell_type": "code",
   "execution_count": 12,
   "metadata": {},
   "outputs": [
    {
     "data": {
      "text/plain": [
       "array([ 5,  8, 11, 14, 17, 20, 23])"
      ]
     },
     "execution_count": 12,
     "metadata": {},
     "output_type": "execute_result"
    }
   ],
   "source": [
    "# 6. 5 ile 25 arasinda, 3’er 3’er atlayan tek boyutlu bir Array olusturunuz.\n",
    "np.arange(5,25,3)"
   ]
  },
  {
   "cell_type": "code",
   "execution_count": 8,
   "metadata": {},
   "outputs": [
    {
     "data": {
      "text/plain": [
       "array([-1.        , -0.93103448, -0.86206897, -0.79310345, -0.72413793,\n",
       "       -0.65517241, -0.5862069 , -0.51724138, -0.44827586, -0.37931034,\n",
       "       -0.31034483, -0.24137931, -0.17241379, -0.10344828, -0.03448276,\n",
       "        0.03448276,  0.10344828,  0.17241379,  0.24137931,  0.31034483,\n",
       "        0.37931034,  0.44827586,  0.51724138,  0.5862069 ,  0.65517241,\n",
       "        0.72413793,  0.79310345,  0.86206897,  0.93103448,  1.        ])"
      ]
     },
     "execution_count": 8,
     "metadata": {},
     "output_type": "execute_result"
    }
   ],
   "source": [
    "# 7. -1 ile 1 arasinda 30 adet Array olusturunuz.\n",
    "np.linspace(-1,1,30)"
   ]
  },
  {
   "cell_type": "code",
   "execution_count": 13,
   "metadata": {},
   "outputs": [
    {
     "data": {
      "text/plain": [
       "array([[19, 17, 13,  1,  6, 23],\n",
       "       [24, 18, 24, 22, 27, 25],\n",
       "       [ 7, 11, 26, 12, 26, 15],\n",
       "       [25, 19,  0,  2, 21, 20],\n",
       "       [ 1, 15, 12, 25, 11, 15]])"
      ]
     },
     "execution_count": 13,
     "metadata": {},
     "output_type": "execute_result"
    }
   ],
   "source": [
    "# 8. 0 ile 30 arasinda 5x6’lik bir matris olusturun.\n",
    "np.random.randint(0,30,(5,6))"
   ]
  },
  {
   "cell_type": "code",
   "execution_count": 14,
   "metadata": {},
   "outputs": [
    {
     "data": {
      "text/plain": [
       "array([[1., 0., 0., 0., 0., 0., 0., 0., 0., 0.],\n",
       "       [0., 1., 0., 0., 0., 0., 0., 0., 0., 0.],\n",
       "       [0., 0., 1., 0., 0., 0., 0., 0., 0., 0.],\n",
       "       [0., 0., 0., 1., 0., 0., 0., 0., 0., 0.],\n",
       "       [0., 0., 0., 0., 1., 0., 0., 0., 0., 0.],\n",
       "       [0., 0., 0., 0., 0., 1., 0., 0., 0., 0.],\n",
       "       [0., 0., 0., 0., 0., 0., 1., 0., 0., 0.],\n",
       "       [0., 0., 0., 0., 0., 0., 0., 1., 0., 0.],\n",
       "       [0., 0., 0., 0., 0., 0., 0., 0., 1., 0.],\n",
       "       [0., 0., 0., 0., 0., 0., 0., 0., 0., 1.]])"
      ]
     },
     "execution_count": 14,
     "metadata": {},
     "output_type": "execute_result"
    }
   ],
   "source": [
    "# 9. Kosegenleri 1 olan 10x10’luk bir matris olusturunuz.\n",
    "np.eye(10,10)"
   ]
  },
  {
   "cell_type": "code",
   "execution_count": 17,
   "metadata": {},
   "outputs": [
    {
     "name": "stdout",
     "output_type": "stream",
     "text": [
      "[[5 1 3 8 6 6 5 5 6 7]\n",
      " [4 7 4 6 5 2 7 2 2 0]\n",
      " [6 3 5 9 6 0 6 0 8 6]\n",
      " [0 7 6 4 0 5 8 3 2 6]\n",
      " [6 5 3 4 7 4 6 9 8 8]]\n"
     ]
    }
   ],
   "source": [
    "'''10. 0 ile 10 arasinda 5x10’lik bir matris olusturun.\n",
    "(integer) ve bu matrisin; • eleman sayisini •\n",
    "boyut bilgisini/sayisini • satir X sutun bilgisini\n",
    "• veri tipini numpy metodlariyla yazdiriniz.'''\n",
    "\n",
    "a = np.random.randint(0,10,(5,10),dtype=int)\n",
    "print(a)\n",
    "#a.size  #eleman sayısı\n",
    "#a.ndim \n",
    "#a.shape\n",
    "#a.dtype"
   ]
  },
  {
   "cell_type": "code",
   "execution_count": 18,
   "metadata": {},
   "outputs": [
    {
     "data": {
      "text/plain": [
       "50"
      ]
     },
     "execution_count": 18,
     "metadata": {},
     "output_type": "execute_result"
    }
   ],
   "source": [
    "a.size"
   ]
  },
  {
   "cell_type": "code",
   "execution_count": 19,
   "metadata": {},
   "outputs": [
    {
     "data": {
      "text/plain": [
       "2"
      ]
     },
     "execution_count": 19,
     "metadata": {},
     "output_type": "execute_result"
    }
   ],
   "source": [
    "a.ndim"
   ]
  },
  {
   "cell_type": "code",
   "execution_count": 20,
   "metadata": {},
   "outputs": [
    {
     "data": {
      "text/plain": [
       "(5, 10)"
      ]
     },
     "execution_count": 20,
     "metadata": {},
     "output_type": "execute_result"
    }
   ],
   "source": [
    "a.shape"
   ]
  },
  {
   "cell_type": "code",
   "execution_count": 21,
   "metadata": {},
   "outputs": [
    {
     "data": {
      "text/plain": [
       "dtype('int32')"
      ]
     },
     "execution_count": 21,
     "metadata": {},
     "output_type": "execute_result"
    }
   ],
   "source": [
    "a.dtype"
   ]
  },
  {
   "cell_type": "code",
   "execution_count": 22,
   "metadata": {},
   "outputs": [
    {
     "data": {
      "text/plain": [
       "array([[[4, 2, 7, 4, 5, 2, 9],\n",
       "        [5, 7, 5, 6, 3, 6, 5],\n",
       "        [9, 4, 9, 5, 1, 7, 1],\n",
       "        [2, 7, 4, 3, 4, 6, 8]],\n",
       "\n",
       "       [[7, 9, 4, 2, 8, 5, 2],\n",
       "        [2, 7, 3, 4, 5, 8, 4],\n",
       "        [2, 3, 4, 0, 8, 0, 0],\n",
       "        [3, 1, 8, 7, 2, 1, 5]],\n",
       "\n",
       "       [[0, 2, 5, 9, 0, 4, 6],\n",
       "        [3, 6, 9, 4, 1, 6, 4],\n",
       "        [8, 9, 7, 8, 4, 4, 7],\n",
       "        [7, 5, 3, 5, 8, 5, 7]]])"
      ]
     },
     "execution_count": 22,
     "metadata": {},
     "output_type": "execute_result"
    }
   ],
   "source": [
    "'''11. 0 ile 10 arasindaki degerlerden olusan 3 adet 4x7’lik bir matris olusturunuz.\n",
    "(3 boyutlu bir matris olusturulacak)'''\n",
    "np.random.randint(0,10,(3,4,7))"
   ]
  },
  {
   "cell_type": "code",
   "execution_count": 23,
   "metadata": {},
   "outputs": [
    {
     "name": "stdout",
     "output_type": "stream",
     "text": [
      "[1 2 3 4]\n",
      "1\n",
      "[[1 2]\n",
      " [3 4]]\n",
      "2\n"
     ]
    }
   ],
   "source": [
    "# 12.Bir vektor olusturunuz ve daha sonrasinda ayni vektoru bir matrise ceviriniz. (boyut sayisini degistirin.)\n",
    "a = np.array([1,2,3,4])\n",
    "print(a)\n",
    "print(a.ndim)\n",
    "b = a.reshape(2,2)\n",
    "print(b)\n",
    "print(b.ndim)"
   ]
  },
  {
   "cell_type": "code",
   "execution_count": 24,
   "metadata": {},
   "outputs": [
    {
     "data": {
      "text/plain": [
       "array([ 1,  2,  3,  5,  6,  7,  8,  9, 10, 11, 12, 13, 14, 15, 16])"
      ]
     },
     "execution_count": 24,
     "metadata": {},
     "output_type": "execute_result"
    }
   ],
   "source": [
    "# 13. 4 tane ayri tek boyutlu array’i birlestirerek bir array olusturunuz.\n",
    "x = np.array([1,2,3])\n",
    "y = np.array([5,6,7,8])\n",
    "z = np.array([9,10,11,12])\n",
    "t = np.array([13,14,15,16])\n",
    "np.concatenate([x,y,z,t])"
   ]
  },
  {
   "cell_type": "markdown",
   "metadata": {},
   "source": [
    "14.2 boyutlu bir vektor ve bir matris olusturun(ayri ayri), bu iki arrayi numpy metodlarini kullanarak sutun bazli birlestiriniz,"
   ]
  },
  {
   "cell_type": "code",
   "execution_count": 2,
   "metadata": {},
   "outputs": [],
   "source": [
    "import numpy as np"
   ]
  },
  {
   "cell_type": "code",
   "execution_count": 9,
   "metadata": {},
   "outputs": [
    {
     "name": "stdout",
     "output_type": "stream",
     "text": [
      "[[4]\n",
      " [5]]\n",
      "[[ 6  7  8]\n",
      " [ 9 10 11]]\n"
     ]
    },
    {
     "data": {
      "text/plain": [
       "array([[ 4,  6,  7,  8],\n",
       "       [ 5,  9, 10, 11]])"
      ]
     },
     "execution_count": 9,
     "metadata": {},
     "output_type": "execute_result"
    }
   ],
   "source": [
    "v=np.array([[4],[5]])\n",
    "m=np.array([[6,7,8],[9,10,11]])\n",
    "print(v)\n",
    "print(m)\n",
    "vm=np.concatenate([v,m],axis=1)\n",
    "vm\n"
   ]
  },
  {
   "cell_type": "markdown",
   "metadata": {},
   "source": [
    "15.Numpy’da “axis=1” ve “axis=0” arasinda ne fark vardir. Teorik olarak yaziniz?\n",
    "\n",
    "axis hangi bazda işlem yapacağınızı açıklar.\n",
    "eğer axis 0 olursa satır bazında \n",
    "axis 1 olursa sütun bazında işlem yapacağınız anlamına gelir."
   ]
  },
  {
   "cell_type": "code",
   "execution_count": null,
   "metadata": {},
   "outputs": [],
   "source": [
    "#16. Farkli boyutlardaki arraylari satır ve sutun bazli ayri ayri birlestiriniz.\n"
   ]
  },
  {
   "cell_type": "code",
   "execution_count": 14,
   "metadata": {},
   "outputs": [
    {
     "data": {
      "text/plain": [
       "[array([0, 1]), array([2]), array([3]), array([4]), array([5, 6, 7, 8, 9])]"
      ]
     },
     "execution_count": 14,
     "metadata": {},
     "output_type": "execute_result"
    }
   ],
   "source": [
    "#17.10 elemanli bi liste olusturunuz ve bu listeyi Numpy metodlariyla bolerek(split) \n",
    "x = np.array([0,1,2,3,4,5,6,7,8,9])\n",
    "np.split(x, [2,3,4,5])\n"
   ]
  },
  {
   "cell_type": "code",
   "execution_count": 28,
   "metadata": {},
   "outputs": [
    {
     "data": {
      "text/plain": [
       "array([2, 3, 7, 6, 3, 7, 3, 2, 9, 4])"
      ]
     },
     "execution_count": 28,
     "metadata": {},
     "output_type": "execute_result"
    }
   ],
   "source": [
    "#18. Random bir array olusturunuz ve bu arrayi buyukten kucuge dogru siralayiniz.Ve bu siralamadan\n",
    "# sonra hangi elemanin hangi indexte oldugunu gosteren bir metod uygulayiniz.\n",
    "a = np.random.randint(0,10,size=10)\n",
    "a"
   ]
  },
  {
   "cell_type": "code",
   "execution_count": 29,
   "metadata": {},
   "outputs": [
    {
     "data": {
      "text/plain": [
       "array([2, 2, 3, 3, 3, 4, 6, 7, 7, 9])"
      ]
     },
     "execution_count": 29,
     "metadata": {},
     "output_type": "execute_result"
    }
   ],
   "source": [
    "np.sort(a)"
   ]
  },
  {
   "cell_type": "code",
   "execution_count": 30,
   "metadata": {},
   "outputs": [
    {
     "data": {
      "text/plain": [
       "array([ 1,  0,  9,  0,  4,  9, 13, 10, 17, 12, 15, 12,  0,  2,  4, 19,  2,\n",
       "        1, 18,  0])"
      ]
     },
     "execution_count": 30,
     "metadata": {},
     "output_type": "execute_result"
    }
   ],
   "source": [
    "#19.20 elemanli random bir vektor olusturunuz. Bu vektorun 3. 5. ve 7. elemanlarina ulasin.\n",
    "b = np.random.randint(20,size=20)\n",
    "b"
   ]
  },
  {
   "cell_type": "code",
   "execution_count": 32,
   "metadata": {},
   "outputs": [
    {
     "data": {
      "text/plain": [
       "10"
      ]
     },
     "execution_count": 32,
     "metadata": {},
     "output_type": "execute_result"
    }
   ],
   "source": [
    "b[3]"
   ]
  },
  {
   "cell_type": "code",
   "execution_count": 33,
   "metadata": {},
   "outputs": [
    {
     "data": {
      "text/plain": [
       "9"
      ]
     },
     "execution_count": 33,
     "metadata": {},
     "output_type": "execute_result"
    }
   ],
   "source": [
    "b[5]"
   ]
  },
  {
   "cell_type": "code",
   "execution_count": 34,
   "metadata": {},
   "outputs": [
    {
     "data": {
      "text/plain": [
       "10"
      ]
     },
     "execution_count": 34,
     "metadata": {},
     "output_type": "execute_result"
    }
   ],
   "source": [
    "b[7]"
   ]
  },
  {
   "cell_type": "code",
   "execution_count": 35,
   "metadata": {},
   "outputs": [
    {
     "data": {
      "text/plain": [
       "array([9, 5, 3, 9, 6, 5, 2, 4, 0, 2])"
      ]
     },
     "execution_count": 35,
     "metadata": {},
     "output_type": "execute_result"
    }
   ],
   "source": [
    "#20.10 elemanli random bir vektor olusturunuz ve bu arrayin 4. elemanini farkli bir sayiyla degistiriniz.\n",
    "e = np.random.randint(10,size = 10)\n",
    "e"
   ]
  },
  {
   "cell_type": "code",
   "execution_count": 36,
   "metadata": {},
   "outputs": [
    {
     "data": {
      "text/plain": [
       "array([ 9,  5,  3,  9, 99,  5,  2,  4,  0,  2])"
      ]
     },
     "execution_count": 36,
     "metadata": {},
     "output_type": "execute_result"
    }
   ],
   "source": [
    "e[4] = 99\n",
    "e"
   ]
  },
  {
   "cell_type": "markdown",
   "metadata": {},
   "source": [
    "21.“Diagonal Matrix” ve “Trace of Matrix” kavramlari hakkinda kucuk bir arastirma yapip bunlarin ne oldugunu belirten kucuk bir aciklama yaziniz."
   ]
  },
  {
   "cell_type": "markdown",
   "metadata": {},
   "source": [
    "“Diagonal (köşegen) Matrix” : Bir kare matriste asal köşegen üzerindeki elemanların dışında kalan tüm elemanlar sıfır ise bu matrise köşegen matris denir.\n",
    "“Trace of Matrix” :  İlkköşegen üzerindeki ögelerin toplamıdır.Ana köşegenindeki (sol üstten sağ alta) elemanların toplamı olarak tanımlanır."
   ]
  },
  {
   "cell_type": "code",
   "execution_count": 38,
   "metadata": {},
   "outputs": [
    {
     "data": {
      "text/plain": [
       "array([[20, 22,  2, 11,  0],\n",
       "       [24,  9, 17, 15, 28],\n",
       "       [26,  6, 12, 19, 11],\n",
       "       [ 6, 20,  4, 17, 19],\n",
       "       [21, 16, 18,  3,  7]])"
      ]
     },
     "execution_count": 38,
     "metadata": {},
     "output_type": "execute_result"
    }
   ],
   "source": [
    "#22.5x5’lik Diagonal bir matris olusturunuz ve Diagonaline denk gelen indexlere ulasiniz.(ayri ayri)\n",
    "a = np.random.randint(0,30,(5,5))\n",
    "a"
   ]
  },
  {
   "cell_type": "code",
   "execution_count": 39,
   "metadata": {},
   "outputs": [
    {
     "data": {
      "text/plain": [
       "array([20,  9, 12, 17,  7])"
      ]
     },
     "execution_count": 39,
     "metadata": {},
     "output_type": "execute_result"
    }
   ],
   "source": [
    "a.diagonal()"
   ]
  },
  {
   "cell_type": "code",
   "execution_count": 41,
   "metadata": {},
   "outputs": [
    {
     "data": {
      "text/plain": [
       "array([10, 11, 12, 13, 14, 15, 16, 17, 18, 19])"
      ]
     },
     "execution_count": 41,
     "metadata": {},
     "output_type": "execute_result"
    }
   ],
   "source": [
    "#23.10 ile 20 arasinda bir vektor olusturunuz. Ve 3. indexten son indexe kadar olan degerleri yazdiriniz.\n",
    "a = np.arange(10,20)\n",
    "a"
   ]
  },
  {
   "cell_type": "code",
   "execution_count": 42,
   "metadata": {},
   "outputs": [
    {
     "data": {
      "text/plain": [
       "array([13, 14, 15, 16, 17, 18, 19])"
      ]
     },
     "execution_count": 42,
     "metadata": {},
     "output_type": "execute_result"
    }
   ],
   "source": [
    "a[3:]"
   ]
  },
  {
   "cell_type": "markdown",
   "metadata": {},
   "source": [
    "#24.\n",
    "'''\n",
    "10X10 luk bir matris olusturunuz ve ; • 3.satir ve 5.sutuna ulasiniz. • 5.sutunun tum satirlarina ulasiniz. \n",
    "• Tum sutunlarin 2.satirlarina ulasiniz. • tum sutunlarin 2 ile 7 arasindaki satirlarina ulasiniz. \n",
    "• satir indexi 2’den 5’e ve sutun indexi 3 den 7’ye kadar olan degerlere ulasiniz. \n",
    "• satir indexi 5’den en sona ve sutun indexi en bastan 4’e kadar olan degerlere ulasiniz. \n",
    "•sutun indexi sadece 3, 6, 9 olan kolonlarin(sutunlarin), tum satirlarina ulasiniz.\n",
    "• 5.indexli satir ve 5.indexli sutuna denk gelen degeri, dogum yilinizla degistiriniz.\n",
    "\n",
    "'''"
   ]
  },
  {
   "cell_type": "code",
   "execution_count": 46,
   "metadata": {},
   "outputs": [
    {
     "data": {
      "text/plain": [
       "array([[19, 70, 58, 68, 65,  6,  4, 83, 68,  3],\n",
       "       [98, 85, 86,  8, 58, 34, 98, 92,  6, 61],\n",
       "       [16, 48, 10, 36, 54, 63, 64, 37, 14, 80],\n",
       "       [50, 57, 88, 98, 14, 85, 22, 15, 62, 51],\n",
       "       [82, 21,  9, 82, 76, 37, 40, 51, 85, 92],\n",
       "       [ 1,  9,  8, 72, 68, 45, 53, 77, 80, 43],\n",
       "       [17,  9, 16, 73, 62, 74, 90,  5, 24, 14],\n",
       "       [ 0,  0, 59,  3,  2, 55, 79, 97, 29, 92],\n",
       "       [76, 97, 54, 28, 73, 98, 73, 43, 13, 62],\n",
       "       [30, 35, 93, 80, 18, 87, 67, 87, 51, 85]])"
      ]
     },
     "execution_count": 46,
     "metadata": {},
     "output_type": "execute_result"
    }
   ],
   "source": [
    "e = np.random.randint(100,size=(10,10))\n",
    "e"
   ]
  },
  {
   "cell_type": "code",
   "execution_count": 47,
   "metadata": {},
   "outputs": [
    {
     "data": {
      "text/plain": [
       "array([85, 37, 45, 74, 55, 98, 87])"
      ]
     },
     "execution_count": 47,
     "metadata": {},
     "output_type": "execute_result"
    }
   ],
   "source": [
    "#3.satir ve 5.sutuna ulasiniz\n",
    "e[3:,5]"
   ]
  },
  {
   "cell_type": "code",
   "execution_count": 48,
   "metadata": {},
   "outputs": [
    {
     "data": {
      "text/plain": [
       "array([ 6, 34, 63, 85, 37, 45, 74, 55, 98, 87])"
      ]
     },
     "execution_count": 48,
     "metadata": {},
     "output_type": "execute_result"
    }
   ],
   "source": [
    "#5.sutunun tum satirlarina ulasiniz. \n",
    "e[:,5]"
   ]
  },
  {
   "cell_type": "code",
   "execution_count": 50,
   "metadata": {},
   "outputs": [
    {
     "data": {
      "text/plain": [
       "array([16, 48, 10, 36, 54, 63, 64, 37, 14, 80])"
      ]
     },
     "execution_count": 50,
     "metadata": {},
     "output_type": "execute_result"
    }
   ],
   "source": [
    "# Tum sutunlarin 2.satirlarina ulasiniz.\n",
    "e[2,:]"
   ]
  },
  {
   "cell_type": "code",
   "execution_count": 51,
   "metadata": {},
   "outputs": [
    {
     "data": {
      "text/plain": [
       "array([[16, 48, 10, 36, 54, 63, 64, 37, 14, 80],\n",
       "       [50, 57, 88, 98, 14, 85, 22, 15, 62, 51],\n",
       "       [82, 21,  9, 82, 76, 37, 40, 51, 85, 92],\n",
       "       [ 1,  9,  8, 72, 68, 45, 53, 77, 80, 43],\n",
       "       [17,  9, 16, 73, 62, 74, 90,  5, 24, 14]])"
      ]
     },
     "execution_count": 51,
     "metadata": {},
     "output_type": "execute_result"
    }
   ],
   "source": [
    "#tum sutunlarin 2 ile 7 arasindaki satirlarina ulasiniz.\n",
    "e[2:7,]"
   ]
  },
  {
   "cell_type": "code",
   "execution_count": 52,
   "metadata": {},
   "outputs": [
    {
     "data": {
      "text/plain": [
       "array([[36, 54, 63, 64],\n",
       "       [98, 14, 85, 22],\n",
       "       [82, 76, 37, 40]])"
      ]
     },
     "execution_count": 52,
     "metadata": {},
     "output_type": "execute_result"
    }
   ],
   "source": [
    "#satir indexi 2’den 5’e ve sutun indexi 3 den 7’ye kadar olan degerlere ulasiniz. \n",
    "e[2:5,3:7]"
   ]
  },
  {
   "cell_type": "code",
   "execution_count": 53,
   "metadata": {},
   "outputs": [
    {
     "data": {
      "text/plain": [
       "array([[ 1,  9,  8, 72],\n",
       "       [17,  9, 16, 73],\n",
       "       [ 0,  0, 59,  3],\n",
       "       [76, 97, 54, 28],\n",
       "       [30, 35, 93, 80]])"
      ]
     },
     "execution_count": 53,
     "metadata": {},
     "output_type": "execute_result"
    }
   ],
   "source": [
    "#satir indexi 5’den en sona ve sutun indexi en bastan 4’e kadar olan degerlere ulasiniz.\n",
    "e[5:,:4]"
   ]
  },
  {
   "cell_type": "code",
   "execution_count": 54,
   "metadata": {},
   "outputs": [
    {
     "data": {
      "text/plain": [
       "array([[68,  4,  3],\n",
       "       [ 8, 98, 61],\n",
       "       [36, 64, 80],\n",
       "       [98, 22, 51],\n",
       "       [82, 40, 92],\n",
       "       [72, 53, 43],\n",
       "       [73, 90, 14],\n",
       "       [ 3, 79, 92],\n",
       "       [28, 73, 62],\n",
       "       [80, 67, 85]])"
      ]
     },
     "execution_count": 54,
     "metadata": {},
     "output_type": "execute_result"
    }
   ],
   "source": [
    "#sutun indexi sadece 3, 6, 9 olan kolonlarin(sutunlarin), tum satirlarina ulasiniz.\n",
    "e[:,[3,6,9]]"
   ]
  },
  {
   "cell_type": "code",
   "execution_count": 55,
   "metadata": {},
   "outputs": [
    {
     "data": {
      "text/plain": [
       "array([[  19,   70,   58,   68,   65,    6,    4,   83,   68,    3],\n",
       "       [  98,   85,   86,    8,   58,   34,   98,   92,    6,   61],\n",
       "       [  16,   48,   10,   36,   54,   63,   64,   37,   14,   80],\n",
       "       [  50,   57,   88,   98,   14,   85,   22,   15,   62,   51],\n",
       "       [  82,   21,    9,   82,   76,   37,   40,   51,   85,   92],\n",
       "       [   1,    9,    8,   72,   68, 1991,   53,   77,   80,   43],\n",
       "       [  17,    9,   16,   73,   62,   74,   90,    5,   24,   14],\n",
       "       [   0,    0,   59,    3,    2,   55,   79,   97,   29,   92],\n",
       "       [  76,   97,   54,   28,   73,   98,   73,   43,   13,   62],\n",
       "       [  30,   35,   93,   80,   18,   87,   67,   87,   51,   85]])"
      ]
     },
     "execution_count": 55,
     "metadata": {},
     "output_type": "execute_result"
    }
   ],
   "source": [
    "#5.indexli satir ve 5.indexli sutuna denk gelen degeri, dogum yilinizla degistiriniz.\n",
    "e[5,5] = 1991\n",
    "e"
   ]
  },
  {
   "cell_type": "markdown",
   "metadata": {},
   "source": [
    "25.\n",
    "0’dan 50’ye kadar 5’er 5’er atlayarak giden bir array olusturunuz(tek boyutlu) ve numpy metodlariyla asagidaki islemleri uygulayin; \n",
    "• 20 den buyuk olan kac deger var. \n",
    "• 30’dan kucuk kac deger var \n",
    "• icerisinde 33 gecen kac deger var \n",
    "• olusturulan arrayin tum elemanlarini 5 ile carpin. \n",
    "• olusturulan arrayin tum elemanlarinin 2 ile bolumunden kalanlari yazdiriniz."
   ]
  },
  {
   "cell_type": "code",
   "execution_count": 56,
   "metadata": {},
   "outputs": [
    {
     "data": {
      "text/plain": [
       "array([ 0,  5, 10, 15, 20, 25, 30, 35, 40, 45])"
      ]
     },
     "execution_count": 56,
     "metadata": {},
     "output_type": "execute_result"
    }
   ],
   "source": [
    "e = np.arange(0,50,5)\n",
    "e"
   ]
  },
  {
   "cell_type": "code",
   "execution_count": 59,
   "metadata": {},
   "outputs": [
    {
     "data": {
      "text/plain": [
       "array([25, 30, 35, 40, 45])"
      ]
     },
     "execution_count": 59,
     "metadata": {},
     "output_type": "execute_result"
    }
   ],
   "source": [
    "e[e>20]"
   ]
  },
  {
   "cell_type": "code",
   "execution_count": 60,
   "metadata": {},
   "outputs": [
    {
     "data": {
      "text/plain": [
       "array([ 0,  5, 10, 15, 20, 25])"
      ]
     },
     "execution_count": 60,
     "metadata": {},
     "output_type": "execute_result"
    }
   ],
   "source": [
    "e[e<30]"
   ]
  },
  {
   "cell_type": "code",
   "execution_count": 62,
   "metadata": {},
   "outputs": [
    {
     "data": {
      "text/plain": [
       "array([], dtype=int32)"
      ]
     },
     "execution_count": 62,
     "metadata": {},
     "output_type": "execute_result"
    }
   ],
   "source": [
    "e[e == 33]"
   ]
  },
  {
   "cell_type": "code",
   "execution_count": 63,
   "metadata": {},
   "outputs": [
    {
     "data": {
      "text/plain": [
       "array([  0,  25,  50,  75, 100, 125, 150, 175, 200, 225])"
      ]
     },
     "execution_count": 63,
     "metadata": {},
     "output_type": "execute_result"
    }
   ],
   "source": [
    "e*5"
   ]
  },
  {
   "cell_type": "code",
   "execution_count": 64,
   "metadata": {},
   "outputs": [
    {
     "data": {
      "text/plain": [
       "array([0, 1, 0, 1, 0, 1, 0, 1, 0, 1], dtype=int32)"
      ]
     },
     "execution_count": 64,
     "metadata": {},
     "output_type": "execute_result"
    }
   ],
   "source": [
    "e%2"
   ]
  },
  {
   "cell_type": "markdown",
   "metadata": {},
   "source": [
    "26.\n",
    "0 ile 1 arasinda 50 elamanli bir array olusturunuz ve; \n",
    "• orlamasini aliniz. • standart sapmasini aliniz. • varyansini aliniz. • median’ini aliniz. • en kucuk degeri bulunuz.\n",
    "• en buyuk degeri bulunuz.\n",
    "\n",
    "Master odev ; Bir dongu icerisinde random olacak sekilde iki tane 20x20’luk matris uretin ve bu matrislerin farklarini alin. Ve fark matrisinin diagonali, -0.1 ile 0.1 arasinda olana kadar bu islemi tekrarlayin. Istenilen matris bulundugunda program dursun ve toplam kac dongunun kuruldugunu, ne kadar sure icinde buldugunu ve istenilen matrisi print ile birlikte ekrana yazdiriniz... Tavsiye: 20 x 20 luk matrisin bulunmasi saatler surebilir. Bu yuzden algoritmanizin dogrulugunu test etmek icin once 4x4, 5x5 gibi kucuk matrislerde deneyebilirsiniz. Ve matris sayisisini arttirarak en son 20x20 u deneyebilirsiniz."
   ]
  },
  {
   "cell_type": "code",
   "execution_count": 69,
   "metadata": {},
   "outputs": [
    {
     "data": {
      "text/plain": [
       "array([0.        , 0.02040816, 0.04081633, 0.06122449, 0.08163265,\n",
       "       0.10204082, 0.12244898, 0.14285714, 0.16326531, 0.18367347,\n",
       "       0.20408163, 0.2244898 , 0.24489796, 0.26530612, 0.28571429,\n",
       "       0.30612245, 0.32653061, 0.34693878, 0.36734694, 0.3877551 ,\n",
       "       0.40816327, 0.42857143, 0.44897959, 0.46938776, 0.48979592,\n",
       "       0.51020408, 0.53061224, 0.55102041, 0.57142857, 0.59183673,\n",
       "       0.6122449 , 0.63265306, 0.65306122, 0.67346939, 0.69387755,\n",
       "       0.71428571, 0.73469388, 0.75510204, 0.7755102 , 0.79591837,\n",
       "       0.81632653, 0.83673469, 0.85714286, 0.87755102, 0.89795918,\n",
       "       0.91836735, 0.93877551, 0.95918367, 0.97959184, 1.        ])"
      ]
     },
     "execution_count": 69,
     "metadata": {},
     "output_type": "execute_result"
    }
   ],
   "source": [
    "e = np.linspace(0,1,50)\n",
    "e"
   ]
  },
  {
   "cell_type": "markdown",
   "metadata": {},
   "source": [
    "np.mean(e)\n",
    "np.std(e)\n",
    "np.var(e)\n",
    "np.median(e)\n",
    "np.min(e)\n",
    "np.max(e)"
   ]
  },
  {
   "cell_type": "code",
   "execution_count": 70,
   "metadata": {},
   "outputs": [
    {
     "data": {
      "text/plain": [
       "0.5"
      ]
     },
     "execution_count": 70,
     "metadata": {},
     "output_type": "execute_result"
    }
   ],
   "source": [
    "np.mean(e)"
   ]
  },
  {
   "cell_type": "code",
   "execution_count": 71,
   "metadata": {},
   "outputs": [
    {
     "data": {
      "text/plain": [
       "0.2945075446869757"
      ]
     },
     "execution_count": 71,
     "metadata": {},
     "output_type": "execute_result"
    }
   ],
   "source": [
    "np.std(e)"
   ]
  },
  {
   "cell_type": "code",
   "execution_count": 72,
   "metadata": {},
   "outputs": [
    {
     "data": {
      "text/plain": [
       "0.086734693877551"
      ]
     },
     "execution_count": 72,
     "metadata": {},
     "output_type": "execute_result"
    }
   ],
   "source": [
    "np.var(e)"
   ]
  },
  {
   "cell_type": "code",
   "execution_count": 74,
   "metadata": {},
   "outputs": [
    {
     "data": {
      "text/plain": [
       "0.5"
      ]
     },
     "execution_count": 74,
     "metadata": {},
     "output_type": "execute_result"
    }
   ],
   "source": [
    "np.median(e)"
   ]
  },
  {
   "cell_type": "code",
   "execution_count": 75,
   "metadata": {},
   "outputs": [
    {
     "data": {
      "text/plain": [
       "0.0"
      ]
     },
     "execution_count": 75,
     "metadata": {},
     "output_type": "execute_result"
    }
   ],
   "source": [
    "np.min(e)"
   ]
  },
  {
   "cell_type": "code",
   "execution_count": 76,
   "metadata": {},
   "outputs": [
    {
     "data": {
      "text/plain": [
       "1.0"
      ]
     },
     "execution_count": 76,
     "metadata": {},
     "output_type": "execute_result"
    }
   ],
   "source": [
    "np.max(e)"
   ]
  },
  {
   "cell_type": "markdown",
   "metadata": {},
   "source": [
    "Master odev ; Bir dongu icerisinde random olacak sekilde iki tane 20x20’luk matris uretin ve bu matrislerin farklarini alin. Ve fark matrisinin diagonali, -0.1 ile 0.1 arasinda olana kadar bu islemi tekrarlayin. Istenilen matris bulundugunda program dursun ve toplam kac dongunun kuruldugunu, ne kadar sure icinde buldugunu ve istenilen matrisi print ile birlikte ekrana yazdiriniz... Tavsiye: 20 x 20 luk matrisin bulunmasi saatler surebilir. Bu yuzden algoritmanizin dogrulugunu test etmek icin once 4x4, 5x5 gibi kucuk matrislerde deneyebilirsiniz. Ve matris sayisisini arttirarak en son 20x20 u deneyebilirsiniz."
   ]
  }
 ],
 "metadata": {
  "interpreter": {
   "hash": "501e8e43b4c6dc9163baf01880c26374d68552043714375fbf7b795d683c7430"
  },
  "kernelspec": {
   "display_name": "Python 3.9.11 64-bit",
   "language": "python",
   "name": "python3"
  },
  "language_info": {
   "codemirror_mode": {
    "name": "ipython",
    "version": 3
   },
   "file_extension": ".py",
   "mimetype": "text/x-python",
   "name": "python",
   "nbconvert_exporter": "python",
   "pygments_lexer": "ipython3",
   "version": "3.9.11"
  },
  "orig_nbformat": 4
 },
 "nbformat": 4,
 "nbformat_minor": 2
}
