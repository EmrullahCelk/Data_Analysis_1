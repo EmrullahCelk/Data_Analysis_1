{
 "cells": [
  {
   "cell_type": "code",
   "execution_count": 1,
   "metadata": {},
   "outputs": [],
   "source": [
    "import numpy as np\n",
    "import random"
   ]
  },
  {
   "cell_type": "code",
   "execution_count": 2,
   "metadata": {},
   "outputs": [],
   "source": [
    "#   Numpy’da Vektor ve Matrisin farkini tek cumle ile ifade ediniz \n",
    "#       Vektörler tek matrisler çok boyutludur."
   ]
  },
  {
   "cell_type": "code",
   "execution_count": 3,
   "metadata": {},
   "outputs": [
    {
     "data": {
      "text/plain": [
       "array([ 1,  2,  3,  4,  5,  6,  7,  8,  9, 10])"
      ]
     },
     "execution_count": 3,
     "metadata": {},
     "output_type": "execute_result"
    }
   ],
   "source": [
    "#   10 elemanli bir listeden NumPy Array’i olusturunuz.\n",
    "np.array([1,2,3,4,5,6,7,8,9,10])   "
   ]
  },
  {
   "cell_type": "code",
   "execution_count": 4,
   "metadata": {},
   "outputs": [
    {
     "data": {
      "text/plain": [
       "array([[0, 0, 0, 0, 0, 0, 0, 0, 0, 0],\n",
       "       [0, 0, 0, 0, 0, 0, 0, 0, 0, 0],\n",
       "       [0, 0, 0, 0, 0, 0, 0, 0, 0, 0],\n",
       "       [0, 0, 0, 0, 0, 0, 0, 0, 0, 0],\n",
       "       [0, 0, 0, 0, 0, 0, 0, 0, 0, 0],\n",
       "       [0, 0, 0, 0, 0, 0, 0, 0, 0, 0],\n",
       "       [0, 0, 0, 0, 0, 0, 0, 0, 0, 0],\n",
       "       [0, 0, 0, 0, 0, 0, 0, 0, 0, 0],\n",
       "       [0, 0, 0, 0, 0, 0, 0, 0, 0, 0],\n",
       "       [0, 0, 0, 0, 0, 0, 0, 0, 0, 0]])"
      ]
     },
     "execution_count": 4,
     "metadata": {},
     "output_type": "execute_result"
    }
   ],
   "source": [
    "#   Icerisinde ‘0’ lar olan, ve veri tipi integer olan 10X10’luk bir matris olusturunuz.\n",
    "np.zeros((10,10), dtype = int)"
   ]
  },
  {
   "cell_type": "code",
   "execution_count": 5,
   "metadata": {},
   "outputs": [
    {
     "data": {
      "text/plain": [
       "array([[1, 1, 1, 1, 1, 1, 1, 1, 1, 1],\n",
       "       [1, 1, 1, 1, 1, 1, 1, 1, 1, 1],\n",
       "       [1, 1, 1, 1, 1, 1, 1, 1, 1, 1],\n",
       "       [1, 1, 1, 1, 1, 1, 1, 1, 1, 1],\n",
       "       [1, 1, 1, 1, 1, 1, 1, 1, 1, 1],\n",
       "       [1, 1, 1, 1, 1, 1, 1, 1, 1, 1],\n",
       "       [1, 1, 1, 1, 1, 1, 1, 1, 1, 1],\n",
       "       [1, 1, 1, 1, 1, 1, 1, 1, 1, 1],\n",
       "       [1, 1, 1, 1, 1, 1, 1, 1, 1, 1],\n",
       "       [1, 1, 1, 1, 1, 1, 1, 1, 1, 1]])"
      ]
     },
     "execution_count": 5,
     "metadata": {},
     "output_type": "execute_result"
    }
   ],
   "source": [
    "#   Icerisinde ‘1’ ler olan, veri tipi float olan 10X10’luk bir matris olusturunuz.\n",
    "np.ones((10,10),dtype=int)"
   ]
  },
  {
   "cell_type": "code",
   "execution_count": 6,
   "metadata": {},
   "outputs": [
    {
     "data": {
      "text/plain": [
       "array([[9, 9, 9, 9, 9, 9, 9, 9, 9, 9],\n",
       "       [9, 9, 9, 9, 9, 9, 9, 9, 9, 9],\n",
       "       [9, 9, 9, 9, 9, 9, 9, 9, 9, 9],\n",
       "       [9, 9, 9, 9, 9, 9, 9, 9, 9, 9],\n",
       "       [9, 9, 9, 9, 9, 9, 9, 9, 9, 9],\n",
       "       [9, 9, 9, 9, 9, 9, 9, 9, 9, 9],\n",
       "       [9, 9, 9, 9, 9, 9, 9, 9, 9, 9],\n",
       "       [9, 9, 9, 9, 9, 9, 9, 9, 9, 9],\n",
       "       [9, 9, 9, 9, 9, 9, 9, 9, 9, 9],\n",
       "       [9, 9, 9, 9, 9, 9, 9, 9, 9, 9]])"
      ]
     },
     "execution_count": 6,
     "metadata": {},
     "output_type": "execute_result"
    }
   ],
   "source": [
    "#   Icerisinde ‘9’ lar olan, veri tipi integer olan 10X10’luk bir matris olusturunuz.\n",
    "np.full((10,10),9, dtype=int)"
   ]
  },
  {
   "cell_type": "code",
   "execution_count": 7,
   "metadata": {},
   "outputs": [
    {
     "data": {
      "text/plain": [
       "array([ 5,  8, 11, 14, 17, 20, 23])"
      ]
     },
     "execution_count": 7,
     "metadata": {},
     "output_type": "execute_result"
    }
   ],
   "source": [
    "#   5 ile 25 arasinda, 3’er 3’er atlayan tek boyutlu bir Array olusturunuz.\n",
    "np.arange(5,25, 3)"
   ]
  },
  {
   "cell_type": "code",
   "execution_count": 8,
   "metadata": {},
   "outputs": [
    {
     "data": {
      "text/plain": [
       "array([-1.        , -0.93103448, -0.86206897, -0.79310345, -0.72413793,\n",
       "       -0.65517241, -0.5862069 , -0.51724138, -0.44827586, -0.37931034,\n",
       "       -0.31034483, -0.24137931, -0.17241379, -0.10344828, -0.03448276,\n",
       "        0.03448276,  0.10344828,  0.17241379,  0.24137931,  0.31034483,\n",
       "        0.37931034,  0.44827586,  0.51724138,  0.5862069 ,  0.65517241,\n",
       "        0.72413793,  0.79310345,  0.86206897,  0.93103448,  1.        ])"
      ]
     },
     "execution_count": 8,
     "metadata": {},
     "output_type": "execute_result"
    }
   ],
   "source": [
    "#   -1 ile 1 arasinda 30 adet Array olusturunuz.\n",
    "np.linspace(-1,1,30)"
   ]
  },
  {
   "cell_type": "code",
   "execution_count": 9,
   "metadata": {},
   "outputs": [
    {
     "data": {
      "text/plain": [
       "array([[18, 19, 13,  8,  4, 17],\n",
       "       [ 6, 21,  9, 29, 29,  1],\n",
       "       [16, 28, 27,  5, 21, 18],\n",
       "       [16, 20, 25,  8, 29, 17],\n",
       "       [25, 11, 28, 10, 15, 15]])"
      ]
     },
     "execution_count": 9,
     "metadata": {},
     "output_type": "execute_result"
    }
   ],
   "source": [
    "#   0 ile 30 arasinda 5x6’lik bir matris olusturun.\n",
    "np.random.randint(0,30,(5,6))"
   ]
  },
  {
   "cell_type": "code",
   "execution_count": 10,
   "metadata": {},
   "outputs": [
    {
     "data": {
      "text/plain": [
       "array([[1, 0, 0, 0, 0, 0, 0, 0, 0, 0],\n",
       "       [0, 1, 0, 0, 0, 0, 0, 0, 0, 0],\n",
       "       [0, 0, 1, 0, 0, 0, 0, 0, 0, 0],\n",
       "       [0, 0, 0, 1, 0, 0, 0, 0, 0, 0],\n",
       "       [0, 0, 0, 0, 1, 0, 0, 0, 0, 0],\n",
       "       [0, 0, 0, 0, 0, 1, 0, 0, 0, 0],\n",
       "       [0, 0, 0, 0, 0, 0, 1, 0, 0, 0],\n",
       "       [0, 0, 0, 0, 0, 0, 0, 1, 0, 0],\n",
       "       [0, 0, 0, 0, 0, 0, 0, 0, 1, 0],\n",
       "       [0, 0, 0, 0, 0, 0, 0, 0, 0, 1]])"
      ]
     },
     "execution_count": 10,
     "metadata": {},
     "output_type": "execute_result"
    }
   ],
   "source": [
    "#   Kosegenleri 1 olan 10x10’luk bir matris olusturunuz.\n",
    "np.eye(10,dtype=\"int\")"
   ]
  },
  {
   "cell_type": "code",
   "execution_count": 11,
   "metadata": {},
   "outputs": [
    {
     "name": "stdout",
     "output_type": "stream",
     "text": [
      "[[7 2 9 7 0 5 6 8 5 2]\n",
      " [1 8 7 5 1 4 0 4 8 5]\n",
      " [5 5 6 5 2 0 7 3 9 2]\n",
      " [0 1 2 5 2 0 3 3 1 4]\n",
      " [2 9 7 7 9 0 5 8 7 8]]\n",
      "Eleman sayısı           : 50\n",
      "Boyut sayısı            : 2\n",
      "Satir X sutun bilgisini : (5, 10)\n",
      "Veri tipi               : int32\n"
     ]
    }
   ],
   "source": [
    "#   0 ile 10 arasinda 5x10’lik bir matris olusturun(integer). \n",
    "#   Bu matrisin; \n",
    "    # • eleman sayisini \n",
    "    # • boyut bilgisini/sayisini \n",
    "    # • satir X sutun bilgisini \n",
    "    # • veri tipini numpy metodlariyla yazdiriniz.\n",
    "\n",
    "matris = np.random.randint(0,10,(5,10))\n",
    "print(matris)\n",
    "print(f\"Eleman sayısı           : {matris.size}\\nBoyut sayısı            : {matris.ndim}\\nSatir X sutun bilgisini : {matris.shape}\\nVeri tipi               : {matris.dtype}\")"
   ]
  },
  {
   "cell_type": "code",
   "execution_count": 12,
   "metadata": {},
   "outputs": [
    {
     "data": {
      "text/plain": [
       "array([[[6, 9, 8, 5, 9, 2, 9],\n",
       "        [6, 3, 5, 3, 3, 4, 2],\n",
       "        [1, 7, 9, 0, 9, 2, 9],\n",
       "        [8, 1, 2, 0, 5, 0, 2]],\n",
       "\n",
       "       [[8, 5, 8, 6, 6, 5, 4],\n",
       "        [3, 8, 0, 2, 6, 9, 4],\n",
       "        [2, 2, 2, 0, 1, 0, 7],\n",
       "        [2, 5, 6, 7, 4, 1, 4]],\n",
       "\n",
       "       [[9, 1, 2, 4, 5, 3, 7],\n",
       "        [9, 8, 4, 1, 3, 8, 2],\n",
       "        [8, 7, 9, 0, 8, 8, 4],\n",
       "        [1, 4, 4, 3, 7, 0, 3]]])"
      ]
     },
     "execution_count": 12,
     "metadata": {},
     "output_type": "execute_result"
    }
   ],
   "source": [
    "#   0 ile 10 arasindaki degerlerden olusan 3 adet 4x7’lik bir matris olusturunuz. (3 boyutlu bir matris olusturulacak)\n",
    "np.random.randint(0,10,(3,4,7))"
   ]
  },
  {
   "cell_type": "code",
   "execution_count": 13,
   "metadata": {},
   "outputs": [
    {
     "name": "stdout",
     "output_type": "stream",
     "text": [
      "Vektor: [1 2 3 4 5 6 7 8 9]\n",
      "Matris: [[1 2 3]\n",
      " [4 5 6]\n",
      " [7 8 9]] \n"
     ]
    }
   ],
   "source": [
    "#   Bir vektor olusturunuz ve daha sonrasinda ayni vektoru bir matrise ceviriniz. (boyut sayisini degistirin.)\n",
    "vektor = np.arange(1,10)\n",
    "matris = vektor.reshape((3,3))\n",
    "print(f\"Vektor: {vektor}\\nMatris: {matris} \")"
   ]
  },
  {
   "cell_type": "code",
   "execution_count": 14,
   "metadata": {},
   "outputs": [
    {
     "name": "stdout",
     "output_type": "stream",
     "text": [
      "[1 2 3 4 5 6 7 8 9]\n",
      "[10 11 12 13 14 15 16 17 18 19]\n",
      "[20 21 22 23 24 25 26 27 28 29]\n",
      "[30 31 32 33 34 35 36 37 38 39]\n",
      "**************************************************\n",
      "[ 1  2  3  4  5  6  7  8  9 10 11 12 13 14 15 16 17 18 19 20 21 22 23 24\n",
      " 25 26 27 28 29 30 31 32 33 34 35 36 37 38 39]\n"
     ]
    }
   ],
   "source": [
    "#    4 tane ayri tek boyutlu array’i birlestirerek bir array olusturunuz.\n",
    "a1 = np.arange(1,10)\n",
    "a2 = np.arange(10,20)\n",
    "a3 = np.arange(20,30)\n",
    "a4 = np.arange(30,40)\n",
    "print(f\"{a1}\\n{a2}\\n{a3}\\n{a4}\")\n",
    "print(50*\"*\")\n",
    "concatenate = np.concatenate([a1,a2,a3,a4])\n",
    "print(concatenate)"
   ]
  },
  {
   "cell_type": "code",
   "execution_count": 15,
   "metadata": {},
   "outputs": [
    {
     "name": "stdout",
     "output_type": "stream",
     "text": [
      "[ 1 10]\n",
      "[10 20]\n",
      "[20 30]\n",
      "[30 40]\n",
      "**************************************************\n",
      "[ 1 10 10 20 20 30 30 40]\n"
     ]
    }
   ],
   "source": [
    "a1 = np.array([1,10])\n",
    "a2 = np.array([10,20])\n",
    "a3 = np.array([20,30])\n",
    "a4 = np.array([30,40])\n",
    "print(f\"{a1}\\n{a2}\\n{a3}\\n{a4}\")\n",
    "print(50*\"*\")\n",
    "concatenate = np.concatenate([a1,a2,a3,a4])\n",
    "print(concatenate)"
   ]
  },
  {
   "cell_type": "code",
   "execution_count": 16,
   "metadata": {},
   "outputs": [
    {
     "data": {
      "text/plain": [
       "array([[ 1,  7, 12, 11],\n",
       "       [ 8,  4, 16, 12],\n",
       "       [ 9,  2, 15, 10],\n",
       "       [ 4,  3, 18, 15]])"
      ]
     },
     "execution_count": 16,
     "metadata": {},
     "output_type": "execute_result"
    }
   ],
   "source": [
    "#    2 boyutlu bir vektor ve bir matris olusturun(ayri ayri), bu iki arrayi numpy metodlarini kullanarak sutun bazli birlestiriniz.\n",
    "x1 = np.random.randint(1,10,(4,2))\n",
    "x2 = np.random.randint(10,20,(4,2))\n",
    "np.concatenate([x1,x2], axis=1)"
   ]
  },
  {
   "cell_type": "code",
   "execution_count": 17,
   "metadata": {},
   "outputs": [],
   "source": [
    "#    Numpy’da “axis=1” ve “axis=0” arasinda ne fark vardir. Teorik olarak yaziniz?\n",
    "#      Satırda işlem yapılacaksa \"axis = 0\"\n",
    "#      Sütunda işlem yapılacaksa \"axis = 1\""
   ]
  },
  {
   "cell_type": "code",
   "execution_count": 18,
   "metadata": {},
   "outputs": [
    {
     "name": "stdout",
     "output_type": "stream",
     "text": [
      "[[ 1  6  8 17 11 13]\n",
      " [ 4  7  8 17 14 19]\n",
      " [ 1  6  9 13 10 11]]\n",
      "[[ 1  6  8]\n",
      " [ 4  7  8]\n",
      " [ 1  6  9]\n",
      " [17 11 13]\n",
      " [17 14 19]\n",
      " [13 10 11]]\n"
     ]
    }
   ],
   "source": [
    "#    Farkli boyutlardaki arraylari satin ve sutun bazli ayri ayri birlestiriniz.\n",
    "array = np.random.randint(1,10,(3,3))\n",
    "array1 = np.random.randint(10,20,(3,3))\n",
    "concatenate = np.concatenate((array,array1), axis=1)\n",
    "concatenate1 = np.concatenate([array,array1], axis=0)\n",
    "print(concatenate)\n",
    "print(concatenate1)\n"
   ]
  },
  {
   "cell_type": "code",
   "execution_count": 19,
   "metadata": {},
   "outputs": [
    {
     "data": {
      "text/plain": [
       "[array([1]), array([2, 3]), array([4]), array([5, 6, 7]), array([ 8,  9, 10])]"
      ]
     },
     "execution_count": 19,
     "metadata": {},
     "output_type": "execute_result"
    }
   ],
   "source": [
    "#    10 elemanli bi liste olusturunuz ve bu listeyi Numpy metodlariyla bolerek(split) 5 ayri array olusturunuz.\n",
    "list = [1,2,3,4,5,6,7,8,9,10]\n",
    "np.split(list,[1,3,4,7])"
   ]
  },
  {
   "cell_type": "code",
   "execution_count": 20,
   "metadata": {},
   "outputs": [
    {
     "name": "stdout",
     "output_type": "stream",
     "text": [
      "[1 9 7 2 4 2 9 2 4 9]\n",
      "**************************************************\n",
      "[9, 9, 9, 7, 4, 4, 2, 2, 2, 1]\n",
      "**************************************************\n",
      "0. index : 9\n",
      "1. index : 9\n",
      "2. index : 9\n",
      "3. index : 7\n",
      "4. index : 4\n",
      "5. index : 4\n",
      "6. index : 2\n",
      "7. index : 2\n",
      "8. index : 2\n",
      "9. index : 1\n",
      "**************************************************\n"
     ]
    }
   ],
   "source": [
    "#    Random bir array olusturunuz ve bu arrayi buyukten kucuge dogru siralayiniz.Ve bu siralamadan sonra hangi elemanin hangi indexte oldugunu gosteren bir metod uygulayiniz.\n",
    "rndom = np.random.randint(1,10,(10))\n",
    "print(rndom)\n",
    "print(50*\"*\")\n",
    "new_rndom = sorted(rndom, reverse=True)\n",
    "print(new_rndom)\n",
    "print(50*\"*\")\n",
    "x = 0\n",
    "for i in new_rndom:\n",
    "    print(f\"{x}. index : {i}\")\n",
    "    x += 1\n",
    "print(50*\"*\")\n"
   ]
  },
  {
   "cell_type": "code",
   "execution_count": 21,
   "metadata": {},
   "outputs": [
    {
     "name": "stdout",
     "output_type": "stream",
     "text": [
      "**************************************************\n",
      "[2 1 7 7 2 2 5 5 7 9 3 8 9 4 3 3 6 8 4 4]\n",
      "**************************************************\n",
      "7\n",
      "**************************************************\n",
      "2\n",
      "**************************************************\n",
      "5\n",
      "**************************************************\n"
     ]
    }
   ],
   "source": [
    "#    20 elemanli random bir vektor olusturunuz. Bu vektorun 3. 5. ve 7. elemanlarina ulasin.\n",
    "randm = np.random.randint(1,10,(20))\n",
    "print(50*\"*\")\n",
    "print(randm)\n",
    "print(50*\"*\")\n",
    "print(randm[3])\n",
    "print(50*\"*\")\n",
    "print(randm[5])\n",
    "print(50*\"*\")\n",
    "print(randm[7])\n",
    "print(50*\"*\")"
   ]
  },
  {
   "cell_type": "code",
   "execution_count": 22,
   "metadata": {},
   "outputs": [
    {
     "name": "stdout",
     "output_type": "stream",
     "text": [
      "**************************************************\n",
      "[6 6 2 8 6 2 1 3 8 3]\n",
      "**************************************************\n",
      "6\n",
      "**************************************************\n",
      "[6 6 2 8 3 2 1 3 8 3]\n",
      "**************************************************\n",
      "3\n",
      "**************************************************\n"
     ]
    }
   ],
   "source": [
    "#    10 elemanli random bir vektor olusturunuz ve bu arrayin 4. elemanini farkli bir sayiyla degistiriniz.\n",
    "rand = np.random.randint(1,10,(10))\n",
    "print(50*\"*\")\n",
    "print(rand)\n",
    "print(50*\"*\")\n",
    "print(rand[4])\n",
    "print(50*\"*\")\n",
    "rand[4] = 3\n",
    "print(rand)\n",
    "print(50*\"*\")\n",
    "print(rand[4])\n",
    "print(50*\"*\")"
   ]
  },
  {
   "cell_type": "code",
   "execution_count": 26,
   "metadata": {},
   "outputs": [
    {
     "data": {
      "text/plain": [
       "array([4, 5, 1, 6, 7])"
      ]
     },
     "execution_count": 26,
     "metadata": {},
     "output_type": "execute_result"
    }
   ],
   "source": [
    "#    “Diagonal Matrix” ve “Trace of Matrix” kavramlari hakkinda kucuk bir arastirma yapip bunlarin ne oldugunu belirten kucuk bir aciklama yaziniz.\n",
    "\n",
    "#       Diagonal Matrix : Bir matriste köşegen dışındaki girişlerin sıfır olduğu matristir.\n",
    "\n",
    "#       Trace of Matrix : Diagonal Matrixteki değerlerin toplanmıdır.\n",
    "np.random.randint(1,10,5)"
   ]
  },
  {
   "cell_type": "code",
   "execution_count": 46,
   "metadata": {},
   "outputs": [
    {
     "name": "stdout",
     "output_type": "stream",
     "text": [
      "**************************************************\n",
      "[[9 0 0 0]\n",
      " [0 3 0 0]\n",
      " [0 0 3 0]\n",
      " [0 0 0 8]]\n",
      "**************************************************\n",
      "[9 3 3 8]\n",
      "**************************************************\n",
      "diago[0][0]: 9\n",
      "diago[1][1]: 3\n",
      "diago[2][2]: 3\n",
      "diago[3][3]: 8\n",
      "**************************************************\n"
     ]
    }
   ],
   "source": [
    "#    5x5’lik Diagonal bir matris olusturunuz ve Diagonaline denk gelen indexlere ulasiniz.(ayri ayri)\n",
    "x = np.random.randint(1,10,4)\n",
    "print(50*\"*\")\n",
    "diago = np.diag(x)\n",
    "print(diago)\n",
    "diagon = diago.diagonal()\n",
    "print(50*\"*\")\n",
    "print(diagon)\n",
    "print(50*\"*\")\n",
    "for i in range(len(diagon)):\n",
    "    print(f\"diago[{i}][{i}]: {diagon[i]}\")\n",
    "print(50*\"*\")"
   ]
  },
  {
   "cell_type": "code",
   "execution_count": 50,
   "metadata": {},
   "outputs": [
    {
     "name": "stdout",
     "output_type": "stream",
     "text": [
      "[10 11 12 13 14 15 16 17 18 19]\n",
      "**************************************************\n",
      "[13 14 15 16 17 18 19]\n"
     ]
    }
   ],
   "source": [
    "#    10 ile 20 arasinda bir vektor olusturunuz. Ve 3. indexten son indexe kadar olan degerleri yazdiriniz.\n",
    "vektor = np.arange(10,20)\n",
    "print(vektor)\n",
    "print(50*\"*\")\n",
    "print(vektor[3:])"
   ]
  },
  {
   "cell_type": "code",
   "execution_count": 64,
   "metadata": {},
   "outputs": [
    {
     "name": "stdout",
     "output_type": "stream",
     "text": [
      "**************************************************\n",
      "[[29 20  3  7 29 15  8 14 23 22]\n",
      " [ 4 18  1  0  2 20  6  3 29 28]\n",
      " [27 20  5 16 17 15 15 23 15 29]\n",
      " [29  7 27  2  6 23 20 18  6 25]\n",
      " [29  0 25 25  8 11  1 24 16  9]\n",
      " [ 4 26  5  7 12 13  0 17 24  1]\n",
      " [17  3 27 17 14 21  4 18  6  0]\n",
      " [24 15  3 18 29  5 25 13 22  2]\n",
      " [ 3  9 14 24 26  3  8 20 26  5]\n",
      " [ 1 10 20 11  2 11  1 27 17 11]]\n",
      "**************************************************\n",
      "3. Satır 5. Sütun: 23\n",
      "**************************************************\n",
      "5.sutunun tum satirlari: [15 20 15 23 11 13 21  5  3 11]\n",
      "**************************************************\n",
      "Tüm satırların 2. sütunları: [27 20  5 16 17 15 15 23 15 29]\n",
      "**************************************************\n",
      "Tüm sutunların 2 ile 7 arasındaki satırları: [[27 20  5 16 17 15 15 23 15 29]\n",
      " [29  7 27  2  6 23 20 18  6 25]\n",
      " [29  0 25 25  8 11  1 24 16  9]\n",
      " [ 4 26  5  7 12 13  0 17 24  1]\n",
      " [17  3 27 17 14 21  4 18  6  0]]\n",
      "**************************************************\n",
      "satir indexi 2’den 5’e ve sutun indexi 3 den 7’ye kadar olan degerler: [[16 17 15 15]\n",
      " [ 2  6 23 20]\n",
      " [25  8 11  1]]\n"
     ]
    }
   ],
   "source": [
    "#    10X10 luk bir matris olusturunuz ve ; \n",
    "#       • 3.satir ve 5.sutuna ulasiniz. \n",
    "#       • 5.sutunun tum satirlarina ulasiniz. \n",
    "#       • Tum sutunlarin 2.satirlarina ulasiniz. \n",
    "#       • tum sutunlarin 2 ile 7 arasindaki satirlarina ulasiniz. \n",
    "#       • satir indexi 2’den 5’e ve sutun indexi 3 den 7’ye kadar olan degerlere ulasiniz. \n",
    "#       • satir indexi 5’den en sona ve sutun indexi en bastan 4’e kadar olan degerlere ulasiniz. \n",
    "#       • sutun indexi sadece 3, 6, 9 olan kolonlarin(sutunlarin), tum satirlarina ulasiniz. \n",
    "#       • 5.indexli satir ve 5.indexli sutuna denk gelen degeri, dogum yilinizla degistiriniz.\n",
    "matris_24 = np.random.randint(0,30,(10,10))\n",
    "print(50*\"*\")\n",
    "print(matris_24)\n",
    "print(50*\"*\")\n",
    "print(f\"3. Satır 5. Sütun: {matris_24[3,5]}\")\n",
    "print(50*\"*\")\n",
    "print(f\"5.sutunun tum satirlari: {matris_24[:,5]}\")\n",
    "print(50*\"*\")\n",
    "print(f\"Tüm satırların 2. sütunları: {matris_24[2,:]}\")\n",
    "print(50*\"*\")\n",
    "print(f\"Tüm sutunların 2 ile 7 arasındaki satırları: {matris_24[2:7,:]}\")\n",
    "print(50*\"*\")\n",
    "print(f\"satir indexi 2’den 5’e ve sutun indexi 3 den 7’ye kadar olan degerler: {matris_24[2:5,3:7]}\")\n",
    "\n",
    "\n"
   ]
  },
  {
   "cell_type": "code",
   "execution_count": 68,
   "metadata": {},
   "outputs": [
    {
     "name": "stdout",
     "output_type": "stream",
     "text": [
      "**************************************************\n",
      "satir indexi 5’den en sona ve sutun indexi en bastan 4’e kadar olan degerler: [[ 4 26  5  7]\n",
      " [17  3 27 17]\n",
      " [24 15  3 18]\n",
      " [ 3  9 14 24]\n",
      " [ 1 10 20 11]]\n",
      "**************************************************\n",
      "sutun indexi sadece 3, 6, 9 olan kolonlarin(sutunlarin), tum satirlari: [[ 7  8 22]\n",
      " [ 0  6 28]\n",
      " [16 15 29]\n",
      " [ 2 20 25]\n",
      " [25  1  9]\n",
      " [ 7  0  1]\n",
      " [17  4  0]\n",
      " [18 25  2]\n",
      " [24  8  5]\n",
      " [11  1 11]]\n",
      "**************************************************\n",
      "1990\n",
      "**************************************************\n"
     ]
    }
   ],
   "source": [
    "# Bir önceki sorunun devamı \n",
    "print(50*\"*\")\n",
    "print(f\"satir indexi 5’den en sona ve sutun indexi en bastan 4’e kadar olan degerler: {matris_24[5:,:4]}\")\n",
    "print(50*\"*\")\n",
    "print(f\"sutun indexi sadece 3, 6, 9 olan kolonlarin(sutunlarin), tum satirlari: {matris_24[0:,(3,6,9)]}\")\n",
    "print(50*\"*\")\n",
    "matris_24[5, 5] = 1990\n",
    "print(matris_24[5,5])\n",
    "print(50*\"*\")"
   ]
  },
  {
   "cell_type": "code",
   "execution_count": 70,
   "metadata": {},
   "outputs": [
    {
     "name": "stdout",
     "output_type": "stream",
     "text": [
      "[ 0  5 10 15 20 25 30 35 40 45]\n",
      "**************************************************\n",
      "5\n",
      "**************************************************\n",
      "6\n",
      "**************************************************\n",
      "0\n",
      "**************************************************\n",
      "[  0  25  50  75 100 125 150 175 200 225]\n",
      "**************************************************\n",
      "[0 1 0 1 0 1 0 1 0 1]\n",
      "**************************************************\n"
     ]
    }
   ],
   "source": [
    "#    0’dan 50’ye kadar 5’er 5’er atlayarak giden bir array olusturunuz(tek boyutlu) ve numpy metodlariyla asagidaki islemleri uygulayin;\n",
    "#      • 20 den buyuk olan kac deger var. \n",
    "#      • 30’dan kucuk kac deger var \n",
    "#      • icerisinde 33 gecen kac deger var \n",
    "#      • olusturulan arrayin tum elemanlarini 5 ile carpin. \n",
    "#      • olusturulan arrayin tum elemanlarinin 2 ile bolumunden kalanlari yazdiriniz.\n",
    "q_25 = np.arange(0, 50, 5)\n",
    "print(q_25)\n",
    "print(50*\"*\")\n",
    "print(np.sum(q_25 > 20))\n",
    "print(50*\"*\")\n",
    "print(np.sum(q_25 < 30))\n",
    "print(50*\"*\")\n",
    "print(np.sum(q_25 == 33))\n",
    "print(50*\"*\")\n",
    "print(q_25 * 5)\n",
    "print(50*\"*\")\n",
    "print(q_25%2)\n",
    "print(50*\"*\")"
   ]
  },
  {
   "cell_type": "code",
   "execution_count": 73,
   "metadata": {},
   "outputs": [
    {
     "name": "stdout",
     "output_type": "stream",
     "text": [
      "**************************************************\n",
      "[[0.02218564 0.88234193 0.4941078  0.92920173 0.59738407 0.99549561\n",
      "  0.54861861 0.53547883 0.78757232 0.17818423 0.90720092 0.04651266\n",
      "  0.26253989 0.39369809 0.34736576 0.51600171 0.04347226 0.9266868\n",
      "  0.48842466 0.18175233 0.89005057 0.85573136 0.32195008 0.6339278\n",
      "  0.87758566 0.81870011 0.45532538 0.16605074 0.835065   0.43725315\n",
      "  0.80220855 0.7541727  0.83541377 0.59727464 0.63538617 0.29035007\n",
      "  0.17178332 0.59142364 0.55721567 0.24829419 0.361966   0.92873056\n",
      "  0.80643201 0.9347361  0.95084724 0.93211521 0.70532516 0.07450004\n",
      "  0.36429845 0.95907661]]\n",
      "**************************************************\n",
      "0.5775483160548521\n",
      "**************************************************\n",
      "0.29362359472386496\n",
      "**************************************************\n",
      "0.0862148153785645\n",
      "**************************************************\n",
      "0.5943491410171964\n",
      "**************************************************\n",
      "0.022185640570103082\n",
      "**************************************************\n",
      "0.9954956114042222\n",
      "**************************************************\n"
     ]
    }
   ],
   "source": [
    "#    0 ile 1 arasinda 50 elamanli bir array olusturunuz ve; \n",
    "#      • orlamasini aliniz. \n",
    "#      • standart sapmasini aliniz. \n",
    "#      • varyansini aliniz. \n",
    "#      • median’ini aliniz. \n",
    "#      • en kucuk degeri bulunuz. \n",
    "#      • en buyuk degeri bulunuz. \n",
    "aryy_26=np.random.rand(1,50)\n",
    "print(50*\"*\")\n",
    "print(aryy_26)\n",
    "print(50*\"*\")\n",
    "print(aryy_26.mean())\n",
    "print(50*\"*\")\n",
    "print(aryy_26.std())\n",
    "print(50*\"*\")\n",
    "print(aryy_26.var())\n",
    "print(50*\"*\")\n",
    "print(np.median(aryy_26))\n",
    "print(50*\"*\")\n",
    "print(np.min(aryy_26))\n",
    "print(50*\"*\")\n",
    "print(np.max(aryy_26))\n",
    "print(50*\"*\")"
   ]
  },
  {
   "cell_type": "code",
   "execution_count": 11,
   "metadata": {},
   "outputs": [
    {
     "name": "stdout",
     "output_type": "stream",
     "text": [
      "Diagonal Matris     : [ 0.09560407 -0.07762169 -0.05863357]\n",
      "İki matrisin farkı  : [[ 0.09560407 -0.3332504   0.08426771]\n",
      " [ 0.49536723 -0.07762169  0.30677554]\n",
      " [-0.78253556 -0.05217233 -0.05863357]]\n",
      "Toplam süre         : -0.0047550201416015625\n",
      "Tekrar sayısı       : 39\n"
     ]
    }
   ],
   "source": [
    "#    Master odev;\n",
    "#        Bir dongu icerisinde random olacak sekilde iki tane 20x20’luk matris uretin ve bu matrislerin farklarini alin.\n",
    "#        Ve fark matrisinin diagonali, -0.1 ile 0.1 arasinda olana kadar bu islemi tekrarlayin.\n",
    "#        Istenilen matris bulundugunda program dursun\n",
    "#        ve toplam kac dongunun kuruldugunu, \n",
    "#        ne kadar sure icinde buldugunu \n",
    "#        ve istenilen matrisi print ile birlikte ekrana yazdiriniz...\n",
    "#          TAVSİYE: \n",
    "#            20 x 20 luk matrisin bulunmasi saatler surebilir. \n",
    "#            Bu yuzden algoritmanizin dogrulugunu test etmek icin once 4x4, 5x5 gibi kucuk matrislerde deneyebilirsiniz. \n",
    "#            Ve matris sayisisini arttirarak en son 20x20 u deneyebilirsiniz\n",
    "import time\n",
    "import numpy as np\n",
    "\n",
    "start_time = time.time()\n",
    "count = 0\n",
    "\n",
    "while True:\n",
    "    count += 1\n",
    "    matris_1 = np.random.rand(20, 20)\n",
    "    matris_2 = np.random.rand(20, 20)\n",
    "    result_matris = (matris_1 - matris_2)\n",
    "\n",
    "    diago_matris = np.diag(result_matris)\n",
    "\n",
    "    if (np.all((diago_matris > -0.1) & (diago_matris < 0.1))) == True:\n",
    "        print(f\"Diagonal Matris     : {diago_matris}\")\n",
    "        break\n",
    "\n",
    "finish_time = time.time()\n",
    "last_time = start_time - finish_time\n",
    "print(f\"İki matrisin farkı  : {result_matris}\")\n",
    "print(f\"Toplam süre         : {last_time}\")\n",
    "print(f\"Tekrar sayısı       : {count}\")\n"
   ]
  }
 ],
 "metadata": {
  "interpreter": {
   "hash": "c57e002af6201f4d10d88350871f75aa8bf0c4c08ce1dc4a0063f3db807accfe"
  },
  "kernelspec": {
   "display_name": "Python 3.9.11 64-bit",
   "language": "python",
   "name": "python3"
  },
  "language_info": {
   "codemirror_mode": {
    "name": "ipython",
    "version": 3
   },
   "file_extension": ".py",
   "mimetype": "text/x-python",
   "name": "python",
   "nbconvert_exporter": "python",
   "pygments_lexer": "ipython3",
   "version": "3.9.11"
  },
  "orig_nbformat": 4
 },
 "nbformat": 4,
 "nbformat_minor": 2
}
